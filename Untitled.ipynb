{
 "cells": [
  {
   "cell_type": "code",
   "execution_count": 1,
   "id": "d0dd44bf",
   "metadata": {},
   "outputs": [
    {
     "name": "stderr",
     "output_type": "stream",
     "text": [
      "127.0.0.1 - - [2023-01-26 16:24:28] \"GET / HTTP/1.1\" 200 258 0.011183\n",
      "127.0.0.1 - - [2023-01-26 16:24:29] \"GET /static/flask_docker.png HTTP/1.1\" 200 16028 0.186147\n",
      "127.0.0.1 - - [2023-01-26 16:24:29] \"GET /favicon.ico HTTP/1.1\" 404 331 0.000837\n",
      "127.0.0.1 - - [2023-01-26 16:25:12] \"GET / HTTP/1.1\" 200 258 0.000000\n",
      "127.0.0.1 - - [2023-01-26 16:25:12] \"GET /static/flask_docker.png HTTP/1.1\" 304 192 0.003996\n",
      "Traceback (most recent call last):\n",
      "  File \"C:\\ProgramData\\Anaconda3\\lib\\site-packages\\gevent\\_ffi\\loop.py\", line 270, in python_check_callback\n",
      "    def python_check_callback(self, watcher_ptr): # pylint:disable=unused-argument\n",
      "KeyboardInterrupt\n",
      "2023-01-26T13:25:26Z\n"
     ]
    },
    {
     "ename": "KeyboardInterrupt",
     "evalue": "",
     "output_type": "error",
     "traceback": [
      "\u001b[1;31m---------------------------------------------------------------------------\u001b[0m",
      "\u001b[1;31mKeyboardInterrupt\u001b[0m                         Traceback (most recent call last)",
      "Input \u001b[1;32mIn [1]\u001b[0m, in \u001b[0;36m<cell line: 6>\u001b[1;34m()\u001b[0m\n\u001b[0;32m      2\u001b[0m \u001b[38;5;28;01mfrom\u001b[39;00m \u001b[38;5;21;01mapp\u001b[39;00m \u001b[38;5;28;01mimport\u001b[39;00m app\n\u001b[0;32m      5\u001b[0m http_server \u001b[38;5;241m=\u001b[39m WSGIServer((\u001b[38;5;124m\"\u001b[39m\u001b[38;5;124m127.0.0.1\u001b[39m\u001b[38;5;124m\"\u001b[39m, \u001b[38;5;241m8000\u001b[39m), app)\n\u001b[1;32m----> 6\u001b[0m \u001b[43mhttp_server\u001b[49m\u001b[38;5;241;43m.\u001b[39;49m\u001b[43mserve_forever\u001b[49m\u001b[43m(\u001b[49m\u001b[43m)\u001b[49m\n",
      "File \u001b[1;32mC:\\ProgramData\\Anaconda3\\lib\\site-packages\\gevent\\baseserver.py:400\u001b[0m, in \u001b[0;36mBaseServer.serve_forever\u001b[1;34m(self, stop_timeout)\u001b[0m\n\u001b[0;32m    398\u001b[0m     \u001b[38;5;28mself\u001b[39m\u001b[38;5;241m.\u001b[39mstart()\n\u001b[0;32m    399\u001b[0m \u001b[38;5;28;01mtry\u001b[39;00m:\n\u001b[1;32m--> 400\u001b[0m     \u001b[38;5;28;43mself\u001b[39;49m\u001b[38;5;241;43m.\u001b[39;49m\u001b[43m_stop_event\u001b[49m\u001b[38;5;241;43m.\u001b[39;49m\u001b[43mwait\u001b[49m\u001b[43m(\u001b[49m\u001b[43m)\u001b[49m\n\u001b[0;32m    401\u001b[0m \u001b[38;5;28;01mfinally\u001b[39;00m:\n\u001b[0;32m    402\u001b[0m     Greenlet\u001b[38;5;241m.\u001b[39mspawn(\u001b[38;5;28mself\u001b[39m\u001b[38;5;241m.\u001b[39mstop, timeout\u001b[38;5;241m=\u001b[39mstop_timeout)\u001b[38;5;241m.\u001b[39mjoin()\n",
      "File \u001b[1;32msrc/gevent/event.py:163\u001b[0m, in \u001b[0;36mgevent._gevent_cevent.Event.wait\u001b[1;34m()\u001b[0m\n",
      "File \u001b[1;32msrc/gevent/_abstract_linkable.py:521\u001b[0m, in \u001b[0;36mgevent._gevent_c_abstract_linkable.AbstractLinkable._wait\u001b[1;34m()\u001b[0m\n",
      "File \u001b[1;32msrc/gevent/_abstract_linkable.py:487\u001b[0m, in \u001b[0;36mgevent._gevent_c_abstract_linkable.AbstractLinkable._wait_core\u001b[1;34m()\u001b[0m\n",
      "File \u001b[1;32msrc/gevent/_abstract_linkable.py:490\u001b[0m, in \u001b[0;36mgevent._gevent_c_abstract_linkable.AbstractLinkable._wait_core\u001b[1;34m()\u001b[0m\n",
      "File \u001b[1;32msrc/gevent/_abstract_linkable.py:442\u001b[0m, in \u001b[0;36mgevent._gevent_c_abstract_linkable.AbstractLinkable._AbstractLinkable__wait_to_be_notified\u001b[1;34m()\u001b[0m\n",
      "File \u001b[1;32msrc/gevent/_abstract_linkable.py:451\u001b[0m, in \u001b[0;36mgevent._gevent_c_abstract_linkable.AbstractLinkable._switch_to_hub\u001b[1;34m()\u001b[0m\n",
      "File \u001b[1;32msrc/gevent/_greenlet_primitives.py:61\u001b[0m, in \u001b[0;36mgevent._gevent_c_greenlet_primitives.SwitchOutGreenletWithLoop.switch\u001b[1;34m()\u001b[0m\n",
      "File \u001b[1;32msrc/gevent/_greenlet_primitives.py:65\u001b[0m, in \u001b[0;36mgevent._gevent_c_greenlet_primitives.SwitchOutGreenletWithLoop.switch\u001b[1;34m()\u001b[0m\n",
      "File \u001b[1;32msrc/gevent/_gevent_c_greenlet_primitives.pxd:35\u001b[0m, in \u001b[0;36mgevent._gevent_c_greenlet_primitives._greenlet_switch\u001b[1;34m()\u001b[0m\n",
      "File \u001b[1;32mC:\\ProgramData\\Anaconda3\\lib\\site-packages\\gevent\\_ffi\\loop.py:270\u001b[0m, in \u001b[0;36mAbstractCallbacks.python_check_callback\u001b[1;34m(self, watcher_ptr)\u001b[0m\n\u001b[0;32m    267\u001b[0m     watcher\u001b[38;5;241m.\u001b[39mstop()\n\u001b[0;32m    269\u001b[0m \u001b[38;5;28;01mif\u001b[39;00m \u001b[38;5;129;01mnot\u001b[39;00m PYPY:\n\u001b[1;32m--> 270\u001b[0m     \u001b[38;5;28;01mdef\u001b[39;00m \u001b[38;5;21mpython_check_callback\u001b[39m(\u001b[38;5;28mself\u001b[39m, watcher_ptr): \u001b[38;5;66;03m# pylint:disable=unused-argument\u001b[39;00m\n\u001b[0;32m    271\u001b[0m         \u001b[38;5;66;03m# If we have the onerror callback, this is a no-op; all the real\u001b[39;00m\n\u001b[0;32m    272\u001b[0m         \u001b[38;5;66;03m# work to rethrow the exception is done by the onerror callback\u001b[39;00m\n\u001b[0;32m    273\u001b[0m \n\u001b[0;32m    274\u001b[0m         \u001b[38;5;66;03m# NOTE: Unlike the rest of the functions, this is called with a pointer\u001b[39;00m\n\u001b[0;32m    275\u001b[0m         \u001b[38;5;66;03m# to the C level structure, *not* a pointer to the void* that represents a\u001b[39;00m\n\u001b[0;32m    276\u001b[0m         \u001b[38;5;66;03m# <cdata> for the Python Watcher object.\u001b[39;00m\n\u001b[0;32m    277\u001b[0m         \u001b[38;5;28;01mpass\u001b[39;00m\n\u001b[0;32m    278\u001b[0m \u001b[38;5;28;01melse\u001b[39;00m: \u001b[38;5;66;03m# PyPy\u001b[39;00m\n\u001b[0;32m    279\u001b[0m     \u001b[38;5;66;03m# On PyPy, we need the function to have some sort of body, otherwise\u001b[39;00m\n\u001b[0;32m    280\u001b[0m     \u001b[38;5;66;03m# the signal exceptions don't always get caught, *especially* with\u001b[39;00m\n\u001b[1;32m   (...)\u001b[0m\n\u001b[0;32m    284\u001b[0m     \u001b[38;5;66;03m# test_socket's test_sendall_interrupted can hang.\u001b[39;00m\n\u001b[0;32m    285\u001b[0m     \u001b[38;5;66;03m# See https://github.com/gevent/gevent/issues/1112\u001b[39;00m\n",
      "\u001b[1;31mKeyboardInterrupt\u001b[0m: "
     ]
    }
   ],
   "source": [
    "from gevent.pywsgi import WSGIServer\n",
    "from app import app\n",
    "\n",
    "\n",
    "http_server = WSGIServer((\"127.0.0.1\", 8000), app)\n",
    "http_server.serve_forever()"
   ]
  },
  {
   "cell_type": "code",
   "execution_count": 9,
   "id": "6380b817",
   "metadata": {},
   "outputs": [
    {
     "ename": "ModuleNotFoundError",
     "evalue": "No module named 'pymongo'",
     "output_type": "error",
     "traceback": [
      "\u001b[1;31m---------------------------------------------------------------------------\u001b[0m",
      "\u001b[1;31mModuleNotFoundError\u001b[0m                       Traceback (most recent call last)",
      "Input \u001b[1;32mIn [9]\u001b[0m, in \u001b[0;36m<cell line: 1>\u001b[1;34m()\u001b[0m\n\u001b[1;32m----> 1\u001b[0m \u001b[38;5;28;01mimport\u001b[39;00m \u001b[38;5;21;01mpymongo\u001b[39;00m\n",
      "\u001b[1;31mModuleNotFoundError\u001b[0m: No module named 'pymongo'"
     ]
    }
   ],
   "source": [
    "import pymongo"
   ]
  },
  {
   "cell_type": "code",
   "execution_count": 4,
   "id": "0829fa9a",
   "metadata": {},
   "outputs": [
    {
     "data": {
      "text/plain": [
       "'3.1.2'"
      ]
     },
     "execution_count": 4,
     "metadata": {},
     "output_type": "execute_result"
    }
   ],
   "source": []
  },
  {
   "cell_type": "code",
   "execution_count": null,
   "id": "1b3710d3",
   "metadata": {},
   "outputs": [],
   "source": []
  }
 ],
 "metadata": {
  "kernelspec": {
   "display_name": "Python 3 (ipykernel)",
   "language": "python",
   "name": "python3"
  },
  "language_info": {
   "codemirror_mode": {
    "name": "ipython",
    "version": 3
   },
   "file_extension": ".py",
   "mimetype": "text/x-python",
   "name": "python",
   "nbconvert_exporter": "python",
   "pygments_lexer": "ipython3",
   "version": "3.9.12"
  }
 },
 "nbformat": 4,
 "nbformat_minor": 5
}
